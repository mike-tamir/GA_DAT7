{
 "metadata": {
  "name": "",
  "signature": "sha256:0de6b6442b6f83effcc3f4d40653d16064a38b3d5de4396361b37a15325099d7"
 },
 "nbformat": 3,
 "nbformat_minor": 0,
 "worksheets": [
  {
   "cells": [
    {
     "cell_type": "code",
     "collapsed": false,
     "input": [
      "import pandas as pd\n",
      "df = pd.read_csv(\"../data/dirty-data.csv\")\n",
      "colz = ['Mean Charge', 'Median Charge', 'Mean Cost', 'Median Cost']\n",
      "for each in colz:\n",
      "    df[each] = df[each].str.replace('$', '')\n",
      "    df[each] = df[each].astype(float)\n",
      "    \n",
      "# df.to_csv(\"../data/free-lunch.csv\")"
     ],
     "language": "python",
     "metadata": {},
     "outputs": [],
     "prompt_number": 1
    }
   ],
   "metadata": {}
  }
 ]
}