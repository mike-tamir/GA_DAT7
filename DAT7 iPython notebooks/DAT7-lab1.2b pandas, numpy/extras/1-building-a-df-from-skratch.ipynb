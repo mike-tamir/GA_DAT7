{
 "metadata": {
  "name": "",
  "signature": "sha256:030f992d9611a4f8328645ee9ea72b403e8bd8f0fc6cde486d488b2f9ffa49d8"
 },
 "nbformat": 3,
 "nbformat_minor": 0,
 "worksheets": [
  {
   "cells": [
    {
     "cell_type": "code",
     "collapsed": false,
     "input": [
      "# Render our plots inline\n",
      "%matplotlib inline\n",
      "import pandas as pd\n",
      "import matplotlib.pyplot as plt\n",
      "pd.set_option('display.mpl_style', 'default') # Make the graphs a bit prettier\n",
      "plt.rcParams['figure.figsize'] = (15, 5)"
     ],
     "language": "python",
     "metadata": {},
     "outputs": [],
     "prompt_number": 1
    },
    {
     "cell_type": "code",
     "collapsed": false,
     "input": [
      "from random import randint\n",
      "\n",
      "def flipper(trials):\n",
      "    coin_list = []\n",
      "    dice_list  = []\n",
      "    for each_flip in range(trials):\n",
      "        coin = randint(0,100)\n",
      "        if coin <= 50:\n",
      "            coin_list.append('Heads')\n",
      "        if coin > 50:\n",
      "            coin_list.append('Tails')\n",
      "        die = randint(1,6)\n",
      "        dice_list.append(die)\n",
      "        \n",
      "    return coin_list, dice_list\n",
      "\n",
      "\n",
      "times_to_flip = 100000\n",
      "coins, dice = flipper(times_to_flip)"
     ],
     "language": "python",
     "metadata": {},
     "outputs": [],
     "prompt_number": 2
    },
    {
     "cell_type": "code",
     "collapsed": false,
     "input": [
      "import pandas as pd\n",
      "\n",
      "myFirstSeries = pd.Series(coins)\n",
      "###  So you can think of a \"Series\" as basically one column\n",
      "print type(myFirstSeries)\n",
      "# print myFirstSeries\n",
      "print myFirstSeries.count()\n",
      "print myFirstSeries.value_counts()\n",
      "# print myFirstSeries.index"
     ],
     "language": "python",
     "metadata": {},
     "outputs": [
      {
       "output_type": "stream",
       "stream": "stdout",
       "text": [
        "<class 'pandas.core.series.Series'>\n",
        "100000\n",
        "Heads    50732\n",
        "Tails    49268\n",
        "dtype: int64\n"
       ]
      }
     ],
     "prompt_number": 3
    },
    {
     "cell_type": "code",
     "collapsed": false,
     "input": [],
     "language": "python",
     "metadata": {},
     "outputs": [],
     "prompt_number": 11
    },
    {
     "cell_type": "code",
     "collapsed": false,
     "input": [
      "### lets make another Series for the dices\n",
      "coins, dice = flipper(times_to_flip)\n",
      "coin_series = pd.Series(coins)\n",
      "dice_series = pd.Series(dice)\n",
      "dice_series.value_counts()\n",
      "mydf = pd.DataFrame([coin_series, dice_series])\n",
      "# print mydf\n",
      "###  THIS SHIT ISN'T THE WAY WE WANT IT, ITS ALL THE WRONG DIRECTION.  \n",
      "###  WE CAN FIX THAT BY USING \"TRANSPOSE\"  NOT SOMETHING I USE ALL TOO OFTEN\n",
      "###  BUT NONE THE LESS, A NICE TOOL TO HAVE LYING AROUND\n",
      "\n",
      "mydf = mydf.T\n",
      "# mydf.head()  ### THIS PRINTS 5 ROWS\n",
      "# mydf  ### THIS PRINTS LIKE ALOT ROWS\n",
      "# print mydf   ## THIS PRINTS LIKE ALL, BUT IN RAW FORMAT"
     ],
     "language": "python",
     "metadata": {},
     "outputs": [],
     "prompt_number": 4
    },
    {
     "cell_type": "code",
     "collapsed": false,
     "input": [
      "print mydf.columns\n",
      "mydf.columns = ['Coins', 'Dice']\n",
      "print mydf.columns"
     ],
     "language": "python",
     "metadata": {},
     "outputs": [
      {
       "output_type": "stream",
       "stream": "stdout",
       "text": [
        "Int64Index([0, 1], dtype='int64')\n",
        "Index([u'Coins', u'Dice'], dtype='object')\n"
       ]
      }
     ],
     "prompt_number": 5
    },
    {
     "cell_type": "heading",
     "level": 4,
     "metadata": {},
     "source": [
      "For the cell below, it would be nice to show if there are any outliers in this bunch.  IE, if like #5 got a statistically signifiant lower amout of rolls then the other ones which can be considered an outlier. "
     ]
    },
    {
     "cell_type": "code",
     "collapsed": false,
     "input": [
      "### SHORT AGG METHOD LESSON\n",
      "\n",
      "#### LETS FIND THE MOST POPULAR ROLL FOR EACH HEADS AND TAILS\n",
      "### weekday_counts = berri_bikes.groupby('weekday').aggregate(sum)\n",
      "roll_counts = mydf.groupby('Coins').aggregate(sum)\n",
      "byby = mydf['Coins'].groupby(mydf['Dice'])\n",
      "byby.value_counts()"
     ],
     "language": "python",
     "metadata": {},
     "outputs": [
      {
       "metadata": {},
       "output_type": "pyout",
       "prompt_number": 6,
       "text": [
        "Dice       \n",
        "1     Tails    8307\n",
        "      Heads    8279\n",
        "2     Heads    8475\n",
        "      Tails    8196\n",
        "3     Heads    8359\n",
        "      Tails    8260\n",
        "4     Heads    8534\n",
        "      Tails    8250\n",
        "5     Heads    8458\n",
        "      Tails    8227\n",
        "6     Heads    8496\n",
        "      Tails    8159\n",
        "dtype: int64"
       ]
      }
     ],
     "prompt_number": 6
    },
    {
     "cell_type": "code",
     "collapsed": false,
     "input": [
      "mydf = pd.DataFrame([coin_series, dice_series])\n",
      "mydf = mydf.T\n",
      "mydf.columns = ['Coins', 'Dice']\n",
      "\n",
      "mofo = mydf.groupby('Dice',axis=0)\n",
      "mofo.count()\n",
      "\n",
      "#### WHEN HEADS IS \"1\", COUNT,  \n",
      "x = mydf['Coins'].groupby(mydf['Dice'], axis=0)\n",
      "x = x.value_counts()\n",
      "x = x.unstack()\n",
      "print x\n",
      "\n",
      "# #### THE POWER IS IN THE HANDS OF THE INDEXER\n",
      "indexed_df = mydf.set_index(mydf['Dice'])\n"
     ],
     "language": "python",
     "metadata": {},
     "outputs": [
      {
       "output_type": "stream",
       "stream": "stdout",
       "text": [
        "      Heads  Tails\n",
        "Dice              \n",
        "1      8510   8250\n",
        "2      8384   8251\n",
        "3      8448   8311\n",
        "4      8489   8235\n",
        "5      8548   8067\n",
        "6      8227   8280\n",
        "\n",
        "[6 rows x 2 columns]\n"
       ]
      }
     ],
     "prompt_number": 15
    },
    {
     "cell_type": "code",
     "collapsed": false,
     "input": [
      "# #### THE POWER IS IN THE HANDS OF THE INDEXER\n",
      "indexed_df = mydf.set_index(mydf['Dice'])\n",
      "# print indexed_df > 5\n",
      "\n",
      "##### SORTING\n",
      "\n",
      "### NOT REALL SURE WHAT THIS CELL IS ABOUT.  "
     ],
     "language": "python",
     "metadata": {},
     "outputs": [],
     "prompt_number": 7
    },
    {
     "cell_type": "heading",
     "level": 3,
     "metadata": {},
     "source": [
      "LETS BUILD A GRAPH WHERE SHOWING THE OUTCOME OF THE FLIPPING GAME.\n",
      "\n",
      "\n",
      "\n",
      "LETS SET HEADS TO EQUAL 1, AND TAILS TO EQUAL -1\n",
      "AND THE X-AXIS TO EQUAL THE TRIAL NUMBER\n",
      "AND THE Y-AXIS WILL BE THE SCORE OF THE TOTAL FLIPS"
     ]
    },
    {
     "cell_type": "code",
     "collapsed": false,
     "input": [
      "### STEP #1:  SET HEADS TO BE 1, AND TAILS TO BE -1\n",
      "mydf = pd.DataFrame([coin_series, dice_series])\n",
      "mydf = mydf.T\n",
      "mydf.columns = ['Coins', 'Dice']\n",
      "\n",
      "### HOW TO DELETE A COLUMN\n",
      "### SINCE WE IS AINT GONNA USE THE DICE HERE, LETS JUST DROP THEM OR DELETE THAT COLUMN\n",
      "del mydf['Dice']"
     ],
     "language": "python",
     "metadata": {},
     "outputs": [],
     "prompt_number": 8
    },
    {
     "cell_type": "code",
     "collapsed": false,
     "input": [
      "\"\"\" \n",
      "Now we have just a column with \"Heads\" or \"Tails\" as the values. \n",
      "Lets create a NEW COLUMN where when the Coins Column is Heads, the new column cell value will be 1\n",
      "\"\"\"\n",
      "import numpy as np\n",
      "\n",
      "mydf['Ints'] = np.where(mydf['Coins'] == \"Heads\", 1, -1)"
     ],
     "language": "python",
     "metadata": {},
     "outputs": [],
     "prompt_number": 9
    },
    {
     "cell_type": "heading",
     "level": 1,
     "metadata": {},
     "source": [
      "Here is an explaination of the np.where() trick"
     ]
    },
    {
     "cell_type": "markdown",
     "metadata": {},
     "source": [
      "\n",
      "np.where( df['COLUMN NAME'] == YOUR CONDITION, FILL WITH THIS, ELSE: FILL WITH THIS)"
     ]
    },
    {
     "cell_type": "code",
     "collapsed": false,
     "input": [
      "mydf.head()"
     ],
     "language": "python",
     "metadata": {},
     "outputs": [
      {
       "html": [
        "<div style=\"max-height:1000px;max-width:1500px;overflow:auto;\">\n",
        "<table border=\"1\" class=\"dataframe\">\n",
        "  <thead>\n",
        "    <tr style=\"text-align: right;\">\n",
        "      <th></th>\n",
        "      <th>Coins</th>\n",
        "      <th>Ints</th>\n",
        "    </tr>\n",
        "  </thead>\n",
        "  <tbody>\n",
        "    <tr>\n",
        "      <th>0</th>\n",
        "      <td> Heads</td>\n",
        "      <td> 1</td>\n",
        "    </tr>\n",
        "    <tr>\n",
        "      <th>1</th>\n",
        "      <td> Heads</td>\n",
        "      <td> 1</td>\n",
        "    </tr>\n",
        "    <tr>\n",
        "      <th>2</th>\n",
        "      <td> Heads</td>\n",
        "      <td> 1</td>\n",
        "    </tr>\n",
        "    <tr>\n",
        "      <th>3</th>\n",
        "      <td> Heads</td>\n",
        "      <td> 1</td>\n",
        "    </tr>\n",
        "    <tr>\n",
        "      <th>4</th>\n",
        "      <td> Heads</td>\n",
        "      <td> 1</td>\n",
        "    </tr>\n",
        "  </tbody>\n",
        "</table>\n",
        "<p>5 rows \u00d7 2 columns</p>\n",
        "</div>"
       ],
       "metadata": {},
       "output_type": "pyout",
       "prompt_number": 19,
       "text": [
        "   Coins  Ints\n",
        "0  Heads     1\n",
        "1  Heads     1\n",
        "2  Heads     1\n",
        "3  Heads     1\n",
        "4  Heads     1\n",
        "\n",
        "[5 rows x 2 columns]"
       ]
      }
     ],
     "prompt_number": 19
    },
    {
     "cell_type": "code",
     "collapsed": false,
     "input": [
      "mydf['CumSum'] = mydf.Ints.cumsum()\n",
      "mydf.tail(20)"
     ],
     "language": "python",
     "metadata": {},
     "outputs": [
      {
       "html": [
        "<div style=\"max-height:1000px;max-width:1500px;overflow:auto;\">\n",
        "<table border=\"1\" class=\"dataframe\">\n",
        "  <thead>\n",
        "    <tr style=\"text-align: right;\">\n",
        "      <th></th>\n",
        "      <th>Coins</th>\n",
        "      <th>Ints</th>\n",
        "      <th>CumSum</th>\n",
        "    </tr>\n",
        "  </thead>\n",
        "  <tbody>\n",
        "    <tr>\n",
        "      <th>99980</th>\n",
        "      <td> Tails</td>\n",
        "      <td>-1</td>\n",
        "      <td> 1207</td>\n",
        "    </tr>\n",
        "    <tr>\n",
        "      <th>99981</th>\n",
        "      <td> Heads</td>\n",
        "      <td> 1</td>\n",
        "      <td> 1208</td>\n",
        "    </tr>\n",
        "    <tr>\n",
        "      <th>99982</th>\n",
        "      <td> Tails</td>\n",
        "      <td>-1</td>\n",
        "      <td> 1207</td>\n",
        "    </tr>\n",
        "    <tr>\n",
        "      <th>99983</th>\n",
        "      <td> Tails</td>\n",
        "      <td>-1</td>\n",
        "      <td> 1206</td>\n",
        "    </tr>\n",
        "    <tr>\n",
        "      <th>99984</th>\n",
        "      <td> Tails</td>\n",
        "      <td>-1</td>\n",
        "      <td> 1205</td>\n",
        "    </tr>\n",
        "    <tr>\n",
        "      <th>99985</th>\n",
        "      <td> Tails</td>\n",
        "      <td>-1</td>\n",
        "      <td> 1204</td>\n",
        "    </tr>\n",
        "    <tr>\n",
        "      <th>99986</th>\n",
        "      <td> Tails</td>\n",
        "      <td>-1</td>\n",
        "      <td> 1203</td>\n",
        "    </tr>\n",
        "    <tr>\n",
        "      <th>99987</th>\n",
        "      <td> Heads</td>\n",
        "      <td> 1</td>\n",
        "      <td> 1204</td>\n",
        "    </tr>\n",
        "    <tr>\n",
        "      <th>99988</th>\n",
        "      <td> Tails</td>\n",
        "      <td>-1</td>\n",
        "      <td> 1203</td>\n",
        "    </tr>\n",
        "    <tr>\n",
        "      <th>99989</th>\n",
        "      <td> Heads</td>\n",
        "      <td> 1</td>\n",
        "      <td> 1204</td>\n",
        "    </tr>\n",
        "    <tr>\n",
        "      <th>99990</th>\n",
        "      <td> Heads</td>\n",
        "      <td> 1</td>\n",
        "      <td> 1205</td>\n",
        "    </tr>\n",
        "    <tr>\n",
        "      <th>99991</th>\n",
        "      <td> Heads</td>\n",
        "      <td> 1</td>\n",
        "      <td> 1206</td>\n",
        "    </tr>\n",
        "    <tr>\n",
        "      <th>99992</th>\n",
        "      <td> Heads</td>\n",
        "      <td> 1</td>\n",
        "      <td> 1207</td>\n",
        "    </tr>\n",
        "    <tr>\n",
        "      <th>99993</th>\n",
        "      <td> Tails</td>\n",
        "      <td>-1</td>\n",
        "      <td> 1206</td>\n",
        "    </tr>\n",
        "    <tr>\n",
        "      <th>99994</th>\n",
        "      <td> Tails</td>\n",
        "      <td>-1</td>\n",
        "      <td> 1205</td>\n",
        "    </tr>\n",
        "    <tr>\n",
        "      <th>99995</th>\n",
        "      <td> Tails</td>\n",
        "      <td>-1</td>\n",
        "      <td> 1204</td>\n",
        "    </tr>\n",
        "    <tr>\n",
        "      <th>99996</th>\n",
        "      <td> Tails</td>\n",
        "      <td>-1</td>\n",
        "      <td> 1203</td>\n",
        "    </tr>\n",
        "    <tr>\n",
        "      <th>99997</th>\n",
        "      <td> Tails</td>\n",
        "      <td>-1</td>\n",
        "      <td> 1202</td>\n",
        "    </tr>\n",
        "    <tr>\n",
        "      <th>99998</th>\n",
        "      <td> Tails</td>\n",
        "      <td>-1</td>\n",
        "      <td> 1201</td>\n",
        "    </tr>\n",
        "    <tr>\n",
        "      <th>99999</th>\n",
        "      <td> Heads</td>\n",
        "      <td> 1</td>\n",
        "      <td> 1202</td>\n",
        "    </tr>\n",
        "  </tbody>\n",
        "</table>\n",
        "<p>20 rows \u00d7 3 columns</p>\n",
        "</div>"
       ],
       "metadata": {},
       "output_type": "pyout",
       "prompt_number": 10,
       "text": [
        "       Coins  Ints  CumSum\n",
        "99980  Tails    -1    1207\n",
        "99981  Heads     1    1208\n",
        "99982  Tails    -1    1207\n",
        "99983  Tails    -1    1206\n",
        "99984  Tails    -1    1205\n",
        "99985  Tails    -1    1204\n",
        "99986  Tails    -1    1203\n",
        "99987  Heads     1    1204\n",
        "99988  Tails    -1    1203\n",
        "99989  Heads     1    1204\n",
        "99990  Heads     1    1205\n",
        "99991  Heads     1    1206\n",
        "99992  Heads     1    1207\n",
        "99993  Tails    -1    1206\n",
        "99994  Tails    -1    1205\n",
        "99995  Tails    -1    1204\n",
        "99996  Tails    -1    1203\n",
        "99997  Tails    -1    1202\n",
        "99998  Tails    -1    1201\n",
        "99999  Heads     1    1202\n",
        "\n",
        "[20 rows x 3 columns]"
       ]
      }
     ],
     "prompt_number": 10
    },
    {
     "cell_type": "code",
     "collapsed": false,
     "input": [
      "mydf['CumSum'].plot()"
     ],
     "language": "python",
     "metadata": {},
     "outputs": [
      {
       "metadata": {},
       "output_type": "pyout",
       "prompt_number": 11,
       "text": [
        "<matplotlib.axes.AxesSubplot at 0x1057a6b50>"
       ]
      },
      {
       "metadata": {},
       "output_type": "display_data",
       "png": "[encoded data removed]",
       "text": [
        "<matplotlib.figure.Figure at 0x106eefa90>"
       ]
      }
     ],
     "prompt_number": 11
    }
   ],
   "metadata": {}
  }
 ]
}